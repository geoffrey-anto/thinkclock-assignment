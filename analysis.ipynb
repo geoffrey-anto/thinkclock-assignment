{
 "cells": [
  {
   "cell_type": "code",
   "execution_count": 3,
   "metadata": {},
   "outputs": [],
   "source": [
    "import pandas as pd\n",
    "from pandas import DataFrame\n",
    "from datetime import datetime"
   ]
  },
  {
   "cell_type": "code",
   "execution_count": 4,
   "metadata": {},
   "outputs": [],
   "source": [
    "dataset = \"./dataset/metadata-norm.csv\""
   ]
  },
  {
   "cell_type": "code",
   "execution_count": 5,
   "metadata": {},
   "outputs": [],
   "source": [
    "df = pd.read_csv(dataset)"
   ]
  },
  {
   "cell_type": "code",
   "execution_count": 6,
   "metadata": {},
   "outputs": [
    {
     "data": {
      "text/html": [
       "<div>\n",
       "<style scoped>\n",
       "    .dataframe tbody tr th:only-of-type {\n",
       "        vertical-align: middle;\n",
       "    }\n",
       "\n",
       "    .dataframe tbody tr th {\n",
       "        vertical-align: top;\n",
       "    }\n",
       "\n",
       "    .dataframe thead th {\n",
       "        text-align: right;\n",
       "    }\n",
       "</style>\n",
       "<table border=\"1\" class=\"dataframe\">\n",
       "  <thead>\n",
       "    <tr style=\"text-align: right;\">\n",
       "      <th></th>\n",
       "      <th>type</th>\n",
       "      <th>start_time</th>\n",
       "      <th>ambient_temperature</th>\n",
       "      <th>battery_id</th>\n",
       "      <th>test_id</th>\n",
       "      <th>uid</th>\n",
       "      <th>filename</th>\n",
       "      <th>Capacity</th>\n",
       "      <th>Re</th>\n",
       "      <th>Rct</th>\n",
       "    </tr>\n",
       "  </thead>\n",
       "  <tbody>\n",
       "    <tr>\n",
       "      <th>0</th>\n",
       "      <td>discharge</td>\n",
       "      <td>2010-07-21 15:00:35</td>\n",
       "      <td>4</td>\n",
       "      <td>B0047</td>\n",
       "      <td>0</td>\n",
       "      <td>1</td>\n",
       "      <td>00001.csv</td>\n",
       "      <td>1.6743047446975208</td>\n",
       "      <td>NaN</td>\n",
       "      <td>NaN</td>\n",
       "    </tr>\n",
       "    <tr>\n",
       "      <th>1</th>\n",
       "      <td>impedance</td>\n",
       "      <td>2010-07-21 16:53:45</td>\n",
       "      <td>24</td>\n",
       "      <td>B0047</td>\n",
       "      <td>1</td>\n",
       "      <td>2</td>\n",
       "      <td>00002.csv</td>\n",
       "      <td>NaN</td>\n",
       "      <td>0.05605783343888099</td>\n",
       "      <td>0.20097016584458333</td>\n",
       "    </tr>\n",
       "    <tr>\n",
       "      <th>2</th>\n",
       "      <td>charge</td>\n",
       "      <td>2010-07-21 17:25:40</td>\n",
       "      <td>4</td>\n",
       "      <td>B0047</td>\n",
       "      <td>2</td>\n",
       "      <td>3</td>\n",
       "      <td>00003.csv</td>\n",
       "      <td>NaN</td>\n",
       "      <td>NaN</td>\n",
       "      <td>NaN</td>\n",
       "    </tr>\n",
       "    <tr>\n",
       "      <th>3</th>\n",
       "      <td>impedance</td>\n",
       "      <td>2010-07-21 20:31:05</td>\n",
       "      <td>24</td>\n",
       "      <td>B0047</td>\n",
       "      <td>3</td>\n",
       "      <td>4</td>\n",
       "      <td>00004.csv</td>\n",
       "      <td>NaN</td>\n",
       "      <td>0.05319185850921101</td>\n",
       "      <td>0.16473399914864734</td>\n",
       "    </tr>\n",
       "    <tr>\n",
       "      <th>4</th>\n",
       "      <td>discharge</td>\n",
       "      <td>2010-07-21 21:02:56</td>\n",
       "      <td>4</td>\n",
       "      <td>B0047</td>\n",
       "      <td>4</td>\n",
       "      <td>5</td>\n",
       "      <td>00005.csv</td>\n",
       "      <td>1.5243662105099023</td>\n",
       "      <td>NaN</td>\n",
       "      <td>NaN</td>\n",
       "    </tr>\n",
       "  </tbody>\n",
       "</table>\n",
       "</div>"
      ],
      "text/plain": [
       "        type           start_time  ambient_temperature battery_id  test_id  \\\n",
       "0  discharge  2010-07-21 15:00:35                    4      B0047        0   \n",
       "1  impedance  2010-07-21 16:53:45                   24      B0047        1   \n",
       "2     charge  2010-07-21 17:25:40                    4      B0047        2   \n",
       "3  impedance  2010-07-21 20:31:05                   24      B0047        3   \n",
       "4  discharge  2010-07-21 21:02:56                    4      B0047        4   \n",
       "\n",
       "   uid   filename            Capacity                   Re  \\\n",
       "0    1  00001.csv  1.6743047446975208                  NaN   \n",
       "1    2  00002.csv                 NaN  0.05605783343888099   \n",
       "2    3  00003.csv                 NaN                  NaN   \n",
       "3    4  00004.csv                 NaN  0.05319185850921101   \n",
       "4    5  00005.csv  1.5243662105099023                  NaN   \n",
       "\n",
       "                   Rct  \n",
       "0                  NaN  \n",
       "1  0.20097016584458333  \n",
       "2                  NaN  \n",
       "3  0.16473399914864734  \n",
       "4                  NaN  "
      ]
     },
     "execution_count": 6,
     "metadata": {},
     "output_type": "execute_result"
    }
   ],
   "source": [
    "df.head()"
   ]
  },
  {
   "cell_type": "code",
   "execution_count": 7,
   "metadata": {},
   "outputs": [
    {
     "name": "stdout",
     "output_type": "stream",
     "text": [
      "Unique Battery Types: 34\n"
     ]
    }
   ],
   "source": [
    "print(f\"Unique Battery Types: {len(df[\"battery_id\"].unique())}\")"
   ]
  },
  {
   "cell_type": "code",
   "execution_count": 8,
   "metadata": {},
   "outputs": [
    {
     "name": "stdout",
     "output_type": "stream",
     "text": [
      "['B0047', 'B0045', 'B0048', 'B0046', 'B0043', 'B0032', 'B0039', 'B0040', 'B0029', 'B0028', 'B0042', 'B0034', 'B0038', 'B0033', 'B0030', 'B0041', 'B0027', 'B0044', 'B0036', 'B0025', 'B0026', 'B0031', 'B0049', 'B0050', 'B0052', 'B0051', 'B0006', 'B0005', 'B0007', 'B0018', 'B0053', 'B0054', 'B0056', 'B0055']\n"
     ]
    }
   ],
   "source": [
    "print([id for id in df[\"battery_id\"].unique()])"
   ]
  },
  {
   "cell_type": "code",
   "execution_count": 80,
   "metadata": {},
   "outputs": [],
   "source": [
    "def sort_by_time(d):\n",
    "    return d.sort_values(\"start_time\")\n",
    "\n",
    "def get_battery_info_by_filename(filename):\n",
    "    return pd.read_csv(f\"./dataset/data/{filename}\")[\"Battery_impedance\"]\n",
    "\n",
    "def parse_complex_number(s):\n",
    "    s = complex(s)\n",
    "    return str(f\"{s.real},{s.imag}\")\n",
    "\n",
    "def get_rows_by_battery_id(battery_id, type=\"re\",freq=\"0.1\"):\n",
    "    d = df[df['battery_id'] == battery_id]\n",
    "    d[d[\"type\"] == \"impedance\"]\n",
    "    \n",
    "    if type == \"re\" or type == \"rct\":\n",
    "        if type == \"re\":\n",
    "            d = d[d[\"type\"] == \"impedance\"]\n",
    "            d = d.drop(columns=['Rct', 'ambient_temperature', 'test_id', 'uid', 'filename', 'Capacity','type', 'battery_id'])\n",
    "            d = sort_by_time(d)\n",
    "            return d\n",
    "        else:    \n",
    "            d = d[d[\"type\"] == \"impedance\"]\n",
    "            d = d.drop(columns=['Re', 'ambient_temperature', 'test_id', 'uid', 'filename', 'Capacity','type', 'battery_id'])\n",
    "            d = sort_by_time(d)\n",
    "            return d\n",
    "    else:\n",
    "        d = d[d[\"type\"] == \"impedance\"]\n",
    "        d = d.drop(columns=['Rct', 'ambient_temperature', 'test_id', 'uid', 'Re', 'Capacity','type', 'battery_id'])\n",
    "        d = d.join(d[\"filename\"].apply(get_battery_info_by_filename))\n",
    "        d.drop(columns=[\"filename\"], inplace=True)\n",
    "        d = sort_by_time(d)\n",
    "        idx = str(int((float(freq) * 10)))\n",
    "        d = d.iloc[:, [0, int(idx)]]\n",
    "        d[\"Re\"] = d[d.columns[1]].apply(lambda x: float(parse_complex_number(x).split(',')[0]))\n",
    "        d[\"Im\"] = d[d.columns[1]].apply(lambda x: float(parse_complex_number(x).split(',')[1]))\n",
    "        d.drop(columns=[d.columns[1]], inplace=True)\n",
    "        return d[\"Re\"].to_list(), d[\"Im\"].to_list()"
   ]
  },
  {
   "cell_type": "code",
   "execution_count": 83,
   "metadata": {},
   "outputs": [
    {
     "data": {
      "text/html": [
       "<div>\n",
       "<style scoped>\n",
       "    .dataframe tbody tr th:only-of-type {\n",
       "        vertical-align: middle;\n",
       "    }\n",
       "\n",
       "    .dataframe tbody tr th {\n",
       "        vertical-align: top;\n",
       "    }\n",
       "\n",
       "    .dataframe thead th {\n",
       "        text-align: right;\n",
       "    }\n",
       "</style>\n",
       "<table border=\"1\" class=\"dataframe\">\n",
       "  <thead>\n",
       "    <tr style=\"text-align: right;\">\n",
       "      <th></th>\n",
       "      <th>start_time</th>\n",
       "      <th>Re</th>\n",
       "    </tr>\n",
       "  </thead>\n",
       "  <tbody>\n",
       "    <tr>\n",
       "      <th>4319</th>\n",
       "      <td>2010-08-23 18:25:01</td>\n",
       "      <td>0.08458047397458193</td>\n",
       "    </tr>\n",
       "    <tr>\n",
       "      <th>4321</th>\n",
       "      <td>2010-08-23 22:01:52</td>\n",
       "      <td>0.07617570199996643</td>\n",
       "    </tr>\n",
       "    <tr>\n",
       "      <th>4329</th>\n",
       "      <td>2010-08-26 12:25:47</td>\n",
       "      <td>-968924452345684.0</td>\n",
       "    </tr>\n",
       "    <tr>\n",
       "      <th>4331</th>\n",
       "      <td>2010-08-26 16:02:42</td>\n",
       "      <td>-4986.050426740892</td>\n",
       "    </tr>\n",
       "    <tr>\n",
       "      <th>4341</th>\n",
       "      <td>2010-08-27 09:22:52</td>\n",
       "      <td>0.10727800454395818</td>\n",
       "    </tr>\n",
       "  </tbody>\n",
       "</table>\n",
       "</div>"
      ],
      "text/plain": [
       "               start_time                   Re\n",
       "4319  2010-08-23 18:25:01  0.08458047397458193\n",
       "4321  2010-08-23 22:01:52  0.07617570199996643\n",
       "4329  2010-08-26 12:25:47   -968924452345684.0\n",
       "4331  2010-08-26 16:02:42   -4986.050426740892\n",
       "4341  2010-08-27 09:22:52  0.10727800454395818"
      ]
     },
     "execution_count": 83,
     "metadata": {},
     "output_type": "execute_result"
    }
   ],
   "source": [
    "get_rows_by_battery_id(\"B0050\", \"re\", \"0.48\").head()"
   ]
  },
  {
   "cell_type": "code",
   "execution_count": null,
   "metadata": {},
   "outputs": [],
   "source": []
  },
  {
   "cell_type": "code",
   "execution_count": null,
   "metadata": {},
   "outputs": [],
   "source": []
  }
 ],
 "metadata": {
  "kernelspec": {
   "display_name": "thinkclock-venv",
   "language": "python",
   "name": "python3"
  },
  "language_info": {
   "codemirror_mode": {
    "name": "ipython",
    "version": 3
   },
   "file_extension": ".py",
   "mimetype": "text/x-python",
   "name": "python",
   "nbconvert_exporter": "python",
   "pygments_lexer": "ipython3",
   "version": "3.12.7"
  }
 },
 "nbformat": 4,
 "nbformat_minor": 2
}
